{
 "cells": [
  {
   "cell_type": "code",
   "execution_count": 74,
   "metadata": {},
   "outputs": [
    {
     "name": "stdout",
     "output_type": "stream",
     "text": [
      "Requirement already satisfied: statsmodels in c:\\users\\rocks\\appdata\\local\\packages\\pythonsoftwarefoundation.python.3.10_qbz5n2kfra8p0\\localcache\\local-packages\\python310\\site-packages (0.14.2)\n",
      "Requirement already satisfied: xgboost in c:\\users\\rocks\\appdata\\local\\packages\\pythonsoftwarefoundation.python.3.10_qbz5n2kfra8p0\\localcache\\local-packages\\python310\\site-packages (2.1.0)\n",
      "Requirement already satisfied: numpy>=1.22.3 in c:\\users\\rocks\\appdata\\local\\packages\\pythonsoftwarefoundation.python.3.10_qbz5n2kfra8p0\\localcache\\local-packages\\python310\\site-packages (from statsmodels) (1.24.3)\n",
      "Requirement already satisfied: scipy!=1.9.2,>=1.8 in c:\\users\\rocks\\appdata\\local\\packages\\pythonsoftwarefoundation.python.3.10_qbz5n2kfra8p0\\localcache\\local-packages\\python310\\site-packages (from statsmodels) (1.14.0)\n",
      "Requirement already satisfied: pandas!=2.1.0,>=1.4 in c:\\users\\rocks\\appdata\\local\\packages\\pythonsoftwarefoundation.python.3.10_qbz5n2kfra8p0\\localcache\\local-packages\\python310\\site-packages (from statsmodels) (1.4.1)\n",
      "Requirement already satisfied: patsy>=0.5.6 in c:\\users\\rocks\\appdata\\local\\packages\\pythonsoftwarefoundation.python.3.10_qbz5n2kfra8p0\\localcache\\local-packages\\python310\\site-packages (from statsmodels) (0.5.6)\n",
      "Requirement already satisfied: packaging>=21.3 in c:\\users\\rocks\\appdata\\local\\packages\\pythonsoftwarefoundation.python.3.10_qbz5n2kfra8p0\\localcache\\local-packages\\python310\\site-packages (from statsmodels) (21.3)\n",
      "Requirement already satisfied: pyparsing!=3.0.5,>=2.0.2 in c:\\users\\rocks\\appdata\\local\\packages\\pythonsoftwarefoundation.python.3.10_qbz5n2kfra8p0\\localcache\\local-packages\\python310\\site-packages (from packaging>=21.3->statsmodels) (3.0.7)\n",
      "Requirement already satisfied: python-dateutil>=2.8.1 in c:\\users\\rocks\\appdata\\local\\packages\\pythonsoftwarefoundation.python.3.10_qbz5n2kfra8p0\\localcache\\local-packages\\python310\\site-packages (from pandas!=2.1.0,>=1.4->statsmodels) (2.8.2)\n",
      "Requirement already satisfied: pytz>=2020.1 in c:\\users\\rocks\\appdata\\local\\packages\\pythonsoftwarefoundation.python.3.10_qbz5n2kfra8p0\\localcache\\local-packages\\python310\\site-packages (from pandas!=2.1.0,>=1.4->statsmodels) (2021.3)\n",
      "Requirement already satisfied: six in c:\\users\\rocks\\appdata\\local\\packages\\pythonsoftwarefoundation.python.3.10_qbz5n2kfra8p0\\localcache\\local-packages\\python310\\site-packages (from patsy>=0.5.6->statsmodels) (1.16.0)\n"
     ]
    }
   ],
   "source": [
    "# Install necessary libraries such as statsmodels (for multicollinearity checks) and xgboost\n",
    "import sys\n",
    "!pip install statsmodels xgboost"
   ]
  },
  {
   "cell_type": "code",
   "execution_count": 75,
   "metadata": {},
   "outputs": [],
   "source": [
    "# Import essential libraries for data handling, visualization, and machine learning\n",
    "import matplotlib.pyplot as plt\n",
    "import seaborn as sns\n",
    "import pandas as pd\n",
    "from statsmodels.stats.outliers_influence import variance_inflation_factor\n",
    "from sklearn.preprocessing import LabelEncoder, PowerTransformer, StandardScaler\n",
    "from imblearn.over_sampling import SMOTE\n",
    "from sklearn.model_selection import train_test_split\n",
    "from sklearn.ensemble import RandomForestClassifier\n",
    "from sklearn.linear_model import LogisticRegression\n",
    "from sklearn.metrics import classification_report, accuracy_score, confusion_matrix, f1_score\n",
    "from xgboost import XGBClassifier\n",
    "import pickle"
   ]
  },
  {
   "cell_type": "code",
   "execution_count": 76,
   "metadata": {},
   "outputs": [],
   "source": [
    "app_data = pd.read_csv(\"datasets/application_record.csv\")\n",
    "credit_data = pd.read_csv(\"datasets/credit_record.csv\")"
   ]
  },
  {
   "cell_type": "code",
   "execution_count": 77,
   "metadata": {},
   "outputs": [
    {
     "name": "stdout",
     "output_type": "stream",
     "text": [
      "Sample records from application data:\n",
      "             ID CODE_GENDER FLAG_OWN_CAR FLAG_OWN_REALTY  CNT_CHILDREN  \\\n",
      "297746  6175672           F            Y               Y             2   \n",
      "232801  6239813           F            N               Y             0   \n",
      "370096  6545079           F            N               N             0   \n",
      "392824  6670394           M            N               N             0   \n",
      "135164  5629185           M            Y               Y             1   \n",
      "\n",
      "        AMT_INCOME_TOTAL      NAME_INCOME_TYPE            NAME_EDUCATION_TYPE  \\\n",
      "297746          270000.0  Commercial associate              Incomplete higher   \n",
      "232801          225000.0               Working               Higher education   \n",
      "370096          130500.0               Working  Secondary / secondary special   \n",
      "392824          135000.0               Working               Higher education   \n",
      "135164          135000.0               Working  Secondary / secondary special   \n",
      "\n",
      "       NAME_FAMILY_STATUS  NAME_HOUSING_TYPE  DAYS_BIRTH  DAYS_EMPLOYED  \\\n",
      "297746            Married  House / apartment      -13405          -3356   \n",
      "232801            Married  House / apartment      -14475          -4337   \n",
      "370096            Married  House / apartment      -14623          -1311   \n",
      "392824            Married  House / apartment      -12955           -144   \n",
      "135164            Married  House / apartment      -19989           -280   \n",
      "\n",
      "        FLAG_MOBIL  FLAG_WORK_PHONE  FLAG_PHONE  FLAG_EMAIL  \\\n",
      "297746           1                1           1           0   \n",
      "232801           1                0           0           0   \n",
      "370096           1                0           1           0   \n",
      "392824           1                0           0           0   \n",
      "135164           1                1           1           0   \n",
      "\n",
      "              OCCUPATION_TYPE  CNT_FAM_MEMBERS  \n",
      "297746                Drivers              4.0  \n",
      "232801  High skill tech staff              2.0  \n",
      "370096                    NaN              2.0  \n",
      "392824               Laborers              2.0  \n",
      "135164                Drivers              3.0  \n"
     ]
    }
   ],
   "source": [
    "print(\"Sample records from application data:\")\n",
    "print(app_data.sample(5))"
   ]
  },
  {
   "cell_type": "code",
   "execution_count": 78,
   "metadata": {},
   "outputs": [
    {
     "name": "stdout",
     "output_type": "stream",
     "text": [
      "Sample records from credit data:\n",
      "             ID  MONTHS_BALANCE STATUS\n",
      "615754  5079171             -28      0\n",
      "178340  5016549             -25      0\n",
      "710294  5096177              -9      C\n",
      "288588  5025195             -16      C\n",
      "411028  5048271             -18      C\n"
     ]
    }
   ],
   "source": [
    "print(\"Sample records from credit data:\")\n",
    "print(credit_data.sample(5))"
   ]
  },
  {
   "cell_type": "code",
   "execution_count": 79,
   "metadata": {},
   "outputs": [
    {
     "name": "stdout",
     "output_type": "stream",
     "text": [
      "Application record shape: (438557, 18)\n",
      "Credit record shape: (1048575, 3)\n"
     ]
    }
   ],
   "source": [
    "print('Application record shape:', app_data.shape)\n",
    "print('Credit record shape:', credit_data.shape)"
   ]
  },
  {
   "cell_type": "code",
   "execution_count": 80,
   "metadata": {},
   "outputs": [
    {
     "name": "stdout",
     "output_type": "stream",
     "text": [
      "Entries for selected ID from credit data:\n",
      "             ID  MONTHS_BALANCE STATUS\n",
      "690772  5092441              -7      C\n",
      "690773  5092441              -8      C\n",
      "690774  5092441              -9      C\n",
      "690775  5092441             -10      C\n",
      "690776  5092441             -11      C\n",
      "690777  5092441             -12      C\n",
      "690778  5092441             -13      C\n",
      "690779  5092441             -14      C\n",
      "690780  5092441             -15      C\n",
      "690781  5092441             -16      C\n",
      "690782  5092441             -17      C\n",
      "690783  5092441             -18      C\n",
      "690784  5092441             -19      C\n",
      "690785  5092441             -20      C\n",
      "690786  5092441             -21      C\n",
      "690787  5092441             -22      C\n",
      "690788  5092441             -23      C\n",
      "690789  5092441             -24      C\n",
      "690790  5092441             -25      C\n",
      "690791  5092441             -26      C\n",
      "690792  5092441             -27      C\n",
      "690793  5092441             -28      C\n",
      "690794  5092441             -29      C\n",
      "690795  5092441             -30      C\n",
      "690796  5092441             -31      C\n",
      "690797  5092441             -32      C\n",
      "690798  5092441             -33      C\n",
      "690799  5092441             -34      C\n",
      "690800  5092441             -35      C\n",
      "690801  5092441             -36      0\n",
      "690802  5092441             -37      0\n",
      "690803  5092441             -38      0\n",
      "690804  5092441             -39      0\n",
      "690805  5092441             -40      0\n",
      "690806  5092441             -41      0\n",
      "690807  5092441             -42      0\n",
      "690808  5092441             -43      0\n",
      "690809  5092441             -44      0\n",
      "690810  5092441             -45      0\n",
      "690811  5092441             -46      0\n",
      "690812  5092441             -47      0\n",
      "690813  5092441             -48      0\n"
     ]
    }
   ],
   "source": [
    "# Select a random ID from credit_data to inspect how credit status is recorded over time\n",
    "selected_id = 5092441\n",
    "print(\"Entries for selected ID from credit data:\")\n",
    "print(credit_data[credit_data['ID'] == selected_id])"
   ]
  },
  {
   "cell_type": "code",
   "execution_count": 81,
   "metadata": {},
   "outputs": [
    {
     "name": "stdout",
     "output_type": "stream",
     "text": [
      "Shape of merged data: (777715, 20)\n"
     ]
    }
   ],
   "source": [
    "# Merge application and credit datasets on 'ID' with an inner join to keep only matching records\n",
    "data = pd.merge(app_data, credit_data, on='ID', how='inner')\n",
    "print('Shape of merged data:', data.shape)"
   ]
  },
  {
   "cell_type": "code",
   "execution_count": 82,
   "metadata": {},
   "outputs": [
    {
     "name": "stdout",
     "output_type": "stream",
     "text": [
      "Percentage of missing values per column:\n",
      " ID                      0.000000\n",
      "CODE_GENDER             0.000000\n",
      "FLAG_OWN_CAR            0.000000\n",
      "FLAG_OWN_REALTY         0.000000\n",
      "CNT_CHILDREN            0.000000\n",
      "AMT_INCOME_TOTAL        0.000000\n",
      "NAME_INCOME_TYPE        0.000000\n",
      "NAME_EDUCATION_TYPE     0.000000\n",
      "NAME_FAMILY_STATUS      0.000000\n",
      "NAME_HOUSING_TYPE       0.000000\n",
      "DAYS_BIRTH              0.000000\n",
      "DAYS_EMPLOYED           0.000000\n",
      "FLAG_MOBIL              0.000000\n",
      "FLAG_WORK_PHONE         0.000000\n",
      "FLAG_PHONE              0.000000\n",
      "FLAG_EMAIL              0.000000\n",
      "OCCUPATION_TYPE        30.865806\n",
      "CNT_FAM_MEMBERS         0.000000\n",
      "MONTHS_BALANCE          0.000000\n",
      "STATUS                  0.000000\n",
      "dtype: float64\n"
     ]
    }
   ],
   "source": [
    "# Check for null values in merged data and their percentages\n",
    "missing_values = data.isnull().sum() / data.shape[0] * 100\n",
    "print(\"Percentage of missing values per column:\\n\", missing_values)"
   ]
  },
  {
   "cell_type": "code",
   "execution_count": 83,
   "metadata": {},
   "outputs": [
    {
     "name": "stdout",
     "output_type": "stream",
     "text": [
      "Shape of dataset after dropping missing values: (537667, 20)\n"
     ]
    }
   ],
   "source": [
    "data.dropna(inplace=True)\n",
    "print(\"Shape of dataset after dropping missing values:\", data.shape)"
   ]
  },
  {
   "cell_type": "code",
   "execution_count": 84,
   "metadata": {},
   "outputs": [
    {
     "name": "stdout",
     "output_type": "stream",
     "text": [
      "Duplicate records in merged data: 0\n"
     ]
    }
   ],
   "source": [
    "# Check for duplicate records to ensure data integrity\n",
    "print('Duplicate records in merged data:', data.duplicated().sum())"
   ]
  },
  {
   "cell_type": "code",
   "execution_count": 85,
   "metadata": {},
   "outputs": [
    {
     "name": "stdout",
     "output_type": "stream",
     "text": [
      "Value counts for the 'STATUS' field after transformation:\n",
      "Good_Debt    535705\n",
      "Bad_Debt       1962\n",
      "Name: STATUS, dtype: int64\n"
     ]
    }
   ],
   "source": [
    "# Map credit status to simplified categories ('Good_Debt' and 'Bad_Debt')\n",
    "status_mapping = {\"C\": \"Good_Debt\", \"X\": \"Good_Debt\", \"0\": \"Good_Debt\", \"1\": \"Good_Debt\",\n",
    "                  \"2\": \"Bad_Debt\", \"3\": \"Bad_Debt\", \"4\": \"Bad_Debt\", \"5\": \"Bad_Debt\"}\n",
    "data['STATUS'].replace(status_mapping, inplace=True)\n",
    "print(\"Value counts for the 'STATUS' field after transformation:\")\n",
    "print(data['STATUS'].value_counts())"
   ]
  },
  {
   "cell_type": "code",
   "execution_count": 86,
   "metadata": {},
   "outputs": [],
   "source": [
    " new_column_names = {\n",
    "'ID': 'ID',\n",
    "'CODE_GENDER': 'Gender',\n",
    "'FLAG_OWN_CAR': 'Car',\n",
    "'FLAG_OWN_REALTY': 'Realty',\n",
    "'CNT_CHILDREN': 'Children',\n",
    "'AMT_INCOME_TOTAL': 'Income',\n",
    "'NAME_INCOME_TYPE': 'Income Type',\n",
    "'NAME_EDUCATION_TYPE': 'Education',\n",
    "'NAME_FAMILY_STATUS': 'Family',\n",
    "'NAME_HOUSING_TYPE': 'Housing',\n",
    "'DAYS_BIRTH': 'Birthday',\n",
    "'DAYS_EMPLOYED': 'Employment',\n",
    "'FLAG_MOBIL': 'Mobile Phone',\n",
    "'FLAG_WORK_PHONE': 'Work Phone',\n",
    "'FLAG_PHONE': 'Phone',\n",
    "'FLAG_EMAIL': 'Email',\n",
    "'OCCUPATION_TYPE': 'Occupation',\n",
    "'CNT_FAM_MEMBERS': 'Family Member Count',\n",
    "'MONTHS_BALANCE': 'Months',\n",
    "'STATUS': 'STATUS'\n",
    "}\n",
    "data.rename(columns=new_column_names, inplace=True)\n"
   ]
  },
  {
   "cell_type": "code",
   "execution_count": 87,
   "metadata": {},
   "outputs": [
    {
     "name": "stdout",
     "output_type": "stream",
     "text": [
      "<class 'pandas.core.frame.DataFrame'>\n",
      "Int64Index: 537667 entries, 31 to 777714\n",
      "Data columns (total 20 columns):\n",
      " #   Column               Non-Null Count   Dtype  \n",
      "---  ------               --------------   -----  \n",
      " 0   ID                   537667 non-null  int64  \n",
      " 1   Gender               537667 non-null  object \n",
      " 2   Car                  537667 non-null  object \n",
      " 3   Realty               537667 non-null  object \n",
      " 4   Children             537667 non-null  int64  \n",
      " 5   Income               537667 non-null  float64\n",
      " 6   Income Type          537667 non-null  object \n",
      " 7   Education            537667 non-null  object \n",
      " 8   Family               537667 non-null  object \n",
      " 9   Housing              537667 non-null  object \n",
      " 10  Birthday             537667 non-null  int64  \n",
      " 11  Employment           537667 non-null  int64  \n",
      " 12  Mobile Phone         537667 non-null  int64  \n",
      " 13  Work Phone           537667 non-null  int64  \n",
      " 14  Phone                537667 non-null  int64  \n",
      " 15  Email                537667 non-null  int64  \n",
      " 16  Occupation           537667 non-null  object \n",
      " 17  Family Member Count  537667 non-null  float64\n",
      " 18  Months               537667 non-null  int64  \n",
      " 19  STATUS               537667 non-null  object \n",
      "dtypes: float64(2), int64(9), object(9)\n",
      "memory usage: 86.1+ MB\n"
     ]
    }
   ],
   "source": [
    "data.info()"
   ]
  },
  {
   "cell_type": "code",
   "execution_count": 88,
   "metadata": {},
   "outputs": [
    {
     "data": {
      "text/plain": [
       "['Gender',\n",
       " 'Car',\n",
       " 'Realty',\n",
       " 'Income Type',\n",
       " 'Education',\n",
       " 'Family',\n",
       " 'Housing',\n",
       " 'Occupation',\n",
       " 'STATUS']"
      ]
     },
     "execution_count": 88,
     "metadata": {},
     "output_type": "execute_result"
    }
   ],
   "source": [
    "# Encode categorical variables using Label Encoding\n",
    "col_names = list(data.select_dtypes('object').columns)\n",
    "col_names"
   ]
  },
  {
   "cell_type": "code",
   "execution_count": 89,
   "metadata": {},
   "outputs": [],
   "source": [
    "# Apply label encoding to specified categorical columns\n",
    "label_encoders = {}\n",
    "\n",
    "for col in col_names:\n",
    "    le = LabelEncoder()\n",
    "    data[col] = le.fit_transform(data[col])\n",
    "    label_encoders[col] = le\n",
    "\n",
    "# Save the entire dictionary of LabelEncoders into one file\n",
    "with open('label_encoders.pkl', 'wb') as file:\n",
    "    pickle.dump(label_encoders, file)"
   ]
  },
  {
   "cell_type": "code",
   "execution_count": 90,
   "metadata": {},
   "outputs": [
    {
     "name": "stdout",
     "output_type": "stream",
     "text": [
      "Encoded sample data:\n",
      "         ID  Gender  Car  Realty  Children    Income  Income Type  Education  \\\n",
      "31  5008806       1    1       1         0  112500.0            4          4   \n",
      "32  5008806       1    1       1         0  112500.0            4          4   \n",
      "33  5008806       1    1       1         0  112500.0            4          4   \n",
      "34  5008806       1    1       1         0  112500.0            4          4   \n",
      "35  5008806       1    1       1         0  112500.0            4          4   \n",
      "\n",
      "    Family  Housing  Birthday  Employment  Mobile Phone  Work Phone  Phone  \\\n",
      "31       1        1    -21474       -1134             1           0      0   \n",
      "32       1        1    -21474       -1134             1           0      0   \n",
      "33       1        1    -21474       -1134             1           0      0   \n",
      "34       1        1    -21474       -1134             1           0      0   \n",
      "35       1        1    -21474       -1134             1           0      0   \n",
      "\n",
      "    Email  Occupation  Family Member Count  Months  STATUS  \n",
      "31      0          16                  2.0       0       1  \n",
      "32      0          16                  2.0      -1       1  \n",
      "33      0          16                  2.0      -2       1  \n",
      "34      0          16                  2.0      -3       1  \n",
      "35      0          16                  2.0      -4       1  \n"
     ]
    }
   ],
   "source": [
    "print(\"Encoded sample data:\")\n",
    "print(data.head())\n"
   ]
  },
  {
   "cell_type": "code",
   "execution_count": 91,
   "metadata": {},
   "outputs": [
    {
     "data": {
      "image/png": "[encoded data removed]",
      "text/plain": [
       "<Figure size 1080x432 with 1 Axes>"
      ]
     },
     "metadata": {
      "needs_background": "light"
     },
     "output_type": "display_data"
    }
   ],
   "source": [
    "# Visualize the correlation matrix of numerical features to assess multicollinearity\n",
    "plt.figure(figsize=(15, 6))\n",
    "sns.heatmap(data[['Children', 'Income', 'Birthday', 'Family Member Count', 'Employment', 'Months']].corr(), annot=True, cbar=False)\n",
    "plt.title('Heatmap of Correlation Matrix for Numerical Features')\n",
    "plt.show()"
   ]
  },
  {
   "cell_type": "code",
   "execution_count": 92,
   "metadata": {},
   "outputs": [
    {
     "name": "stdout",
     "output_type": "stream",
     "text": [
      "Variance Inflation Factor (VIF) for features:\n",
      "                Features           VIF\n",
      "0                    ID      1.022188\n",
      "1                Gender      1.212764\n",
      "2                   Car      1.190991\n",
      "3                Realty      1.098616\n",
      "4              Children     19.785182\n",
      "5                Income      1.172745\n",
      "6           Income Type      1.048286\n",
      "7             Education      1.120733\n",
      "8                Family      4.753106\n",
      "9               Housing      1.065340\n",
      "10             Birthday      1.297107\n",
      "11           Employment      1.136783\n",
      "12         Mobile Phone  15489.170112\n",
      "13           Work Phone      1.245857\n",
      "14                Phone      1.175084\n",
      "15                Email      1.029590\n",
      "16           Occupation      1.016966\n",
      "17  Family Member Count     25.790742\n",
      "18               Months      1.004287\n",
      "19               STATUS      1.002027\n"
     ]
    }
   ],
   "source": [
    "# Compute Variance Inflation Factor (VIF) to detect multicollinearity among numerical features\n",
    "vif_data = pd.DataFrame()\n",
    "vif_data[\"Features\"] = data.columns\n",
    "vif_data[\"VIF\"] = [variance_inflation_factor(data.values, i) for i in range(data.shape[1])]\n",
    "print(\"Variance Inflation Factor (VIF) for features:\\n\", vif_data)"
   ]
  },
  {
   "cell_type": "code",
   "execution_count": 93,
   "metadata": {},
   "outputs": [],
   "source": [
    "# Drop features with high VIF values (suggesting multicollinearity) to improve model performance\n",
    "data_clean = data.drop(['ID', 'Mobile Phone', 'Family Member Count', 'Children'], axis=1)"
   ]
  },
  {
   "cell_type": "code",
   "execution_count": 94,
   "metadata": {},
   "outputs": [],
   "source": [
    "# Use SMOTE to balance the dataset since it is highly imbalanced\n",
    "smote = SMOTE()\n",
    "X_balance, Y_balance = smote.fit_resample(data_clean.drop('STATUS', axis=1), data_clean['STATUS'])"
   ]
  },
  {
   "cell_type": "code",
   "execution_count": 95,
   "metadata": {},
   "outputs": [],
   "source": [
    "# Train-test split to evaluate model performance\n",
    "x_train, x_test, y_train, y_test = train_test_split(X_balance, Y_balance, test_size=0.2, random_state=16)"
   ]
  },
  {
   "cell_type": "code",
   "execution_count": 96,
   "metadata": {},
   "outputs": [
    {
     "name": "stderr",
     "output_type": "stream",
     "text": [
      "C:\\Users\\rocks\\AppData\\Local\\Packages\\PythonSoftwareFoundation.Python.3.10_qbz5n2kfra8p0\\LocalCache\\local-packages\\Python310\\site-packages\\sklearn\\linear_model\\_logistic.py:469: ConvergenceWarning: lbfgs failed to converge (status=1):\n",
      "STOP: TOTAL NO. of ITERATIONS REACHED LIMIT.\n",
      "\n",
      "Increase the number of iterations (max_iter) or scale the data as shown in:\n",
      "    https://scikit-learn.org/stable/modules/preprocessing.html\n",
      "Please also refer to the documentation for alternative solver options:\n",
      "    https://scikit-learn.org/stable/modules/linear_model.html#logistic-regression\n",
      "  n_iter_i = _check_optimize_result(\n"
     ]
    },
    {
     "name": "stdout",
     "output_type": "stream",
     "text": [
      "Logistic Regression - Train Accuracy: 60.77272006048104 %\n",
      "Logistic Regression - Test Accuracy: 60.916922559991036 %\n",
      "\n",
      "Classification report:\n",
      "              precision    recall  f1-score   support\n",
      "\n",
      "           0       0.61      0.62      0.61    106942\n",
      "           1       0.61      0.60      0.61    107340\n",
      "\n",
      "    accuracy                           0.61    214282\n",
      "   macro avg       0.61      0.61      0.61    214282\n",
      "weighted avg       0.61      0.61      0.61    214282\n",
      "\n"
     ]
    }
   ],
   "source": [
    "# Train a Logistic Regression model and evaluate its performance\n",
    "log_model = LogisticRegression(max_iter=1000)\n",
    "log_model.fit(x_train, y_train);\n",
    "\n",
    "y_predict = log_model.predict(x_test)\n",
    "\n",
    "print('Logistic Regression - Train Accuracy:', log_model.score(x_train, y_train) * 100, '%')\n",
    "print('Logistic Regression - Test Accuracy:', log_model.score(x_test, y_test) * 100, '%')\n",
    "\n",
    "# Print performance metrics\n",
    "print('\\nClassification report:')\n",
    "print(classification_report(y_test, y_predict))"
   ]
  },
  {
   "cell_type": "code",
   "execution_count": 97,
   "metadata": {},
   "outputs": [
    {
     "data": {
      "image/png": "[encoded data removed]",
      "text/plain": [
       "<Figure size 432x288 with 1 Axes>"
      ]
     },
     "metadata": {
      "needs_background": "light"
     },
     "output_type": "display_data"
    }
   ],
   "source": [
    "import matplotlib.pyplot as plt\n",
    "from sklearn.metrics import roc_curve, auc\n",
    "# Assuming model2 is your trained classification model\n",
    "# Assuming x_test and y_test are your test features and labels, respectively\n",
    "# Calculate ROC curve\n",
    "fpr, tpr, thresholds = roc_curve(y_test, log_model.predict_proba(x_test)[:, 1])\n",
    "# Calculate AUC\n",
    "roc_auc = auc(fpr, tpr)\n",
    "# Plot ROC curve\n",
    "plt.figure()\n",
    "plt.plot(fpr, tpr, color='darkorange', lw=2, label='ROC curve (area = %0.2f)' %roc_auc)\n",
    "plt.plot([0, 1], [0, 1], color='navy', lw=2, linestyle='--')\n",
    "plt.xlim([0.0, 1.0])\n",
    "plt.ylim([0.0, 1.05])\n",
    "plt.xlabel('False Positive Rate')\n",
    "plt.ylabel('True Positive Rate')\n",
    "plt.title('Receiver Operating Characteristic (ROC) Curve')\n",
    "plt.legend(loc=\"lower right\")\n",
    "plt.show()"
   ]
  },
  {
   "cell_type": "code",
   "execution_count": 98,
   "metadata": {},
   "outputs": [
    {
     "name": "stdout",
     "output_type": "stream",
     "text": [
      "Random Forest - Train Accuracy: 99.40848974715561 %\n",
      "Random Forest - Test Accuracy: 99.3289217013095 %\n",
      "\n",
      "Classification report:\n",
      "              precision    recall  f1-score   support\n",
      "\n",
      "           0       0.99      1.00      0.99    106942\n",
      "           1       1.00      0.99      0.99    107340\n",
      "\n",
      "    accuracy                           0.99    214282\n",
      "   macro avg       0.99      0.99      0.99    214282\n",
      "weighted avg       0.99      0.99      0.99    214282\n",
      "\n"
     ]
    }
   ],
   "source": [
    "# Train a Random Forest model and evaluate its performance\n",
    "rf_model = RandomForestClassifier(random_state=42)\n",
    "rf_model.fit(x_train, y_train)\n",
    "\n",
    "filename = \"rf_model.pkl\"\n",
    "pickle.dump(rf_model, open(filename, 'wb'))\n",
    "\n",
    "y_predict = rf_model.predict(x_test)\n",
    "\n",
    "print('Random Forest - Train Accuracy:', rf_model.score(x_train, y_train) * 100, '%')\n",
    "print('Random Forest - Test Accuracy:', rf_model.score(x_test, y_test) * 100, '%')\n",
    "\n",
    "# Print performance metrics\n",
    "print('\\nClassification report:')\n",
    "print(classification_report(y_test, y_predict))\n"
   ]
  },
  {
   "cell_type": "code",
   "execution_count": 99,
   "metadata": {},
   "outputs": [
    {
     "data": {
      "image/png": "[encoded data removed]",
      "text/plain": [
       "<Figure size 432x288 with 1 Axes>"
      ]
     },
     "metadata": {
      "needs_background": "light"
     },
     "output_type": "display_data"
    }
   ],
   "source": [
    "# Calculate ROC curve\n",
    "fpr, tpr, thresholds = roc_curve(y_test, rf_model.predict_proba(x_test)[:, 1])\n",
    "# Calculate AUC\n",
    "roc_auc = auc(fpr, tpr)\n",
    "# Plot ROC curve\n",
    "plt.figure()\n",
    "plt.plot(fpr, tpr, color='darkorange', lw=2, label='ROC curve (area = %0.2f)' %roc_auc)\n",
    "plt.plot([0, 1], [0, 1], color='navy', lw=2, linestyle='--')\n",
    "plt.xlim([0.0, 1.0])\n",
    "plt.ylim([0.0, 1.05])\n",
    "plt.xlabel('False Positive Rate')\n",
    "plt.ylabel('True Positive Rate')\n",
    "plt.title('Receiver Operating Characteristic (ROC) Curve')\n",
    "plt.legend(loc=\"lower right\")\n",
    "plt.show()"
   ]
  },
  {
   "cell_type": "code",
   "execution_count": 100,
   "metadata": {},
   "outputs": [
    {
     "name": "stdout",
     "output_type": "stream",
     "text": [
      "XGBoost - Train Accuracy: 98.44982313026759 %\n",
      "XGBoost - Test Accuracy: 98.37317180164456 %\n",
      "\n",
      "Classification report:\n",
      "              precision    recall  f1-score   support\n",
      "\n",
      "           0       0.98      0.99      0.98    106942\n",
      "           1       0.99      0.98      0.98    107340\n",
      "\n",
      "    accuracy                           0.98    214282\n",
      "   macro avg       0.98      0.98      0.98    214282\n",
      "weighted avg       0.98      0.98      0.98    214282\n",
      "\n"
     ]
    }
   ],
   "source": [
    "# Train an XGBoost model and evaluate its performance\n",
    "xgb_model = XGBClassifier()\n",
    "xgb_model.fit(x_train, y_train)\n",
    "\n",
    "y_predict = xgb_model.predict(x_test)\n",
    "\n",
    "xgb_model.fit(x_train, y_train)\n",
    "print('XGBoost - Train Accuracy:', xgb_model.score(x_train, y_train) * 100, '%')\n",
    "print('XGBoost - Test Accuracy:', xgb_model.score(x_test, y_test) * 100, '%')\n",
    "\n",
    "# Print performance metrics\n",
    "print('\\nClassification report:')\n",
    "print(classification_report(y_test, y_predict))\n"
   ]
  },
  {
   "cell_type": "code",
   "execution_count": 101,
   "metadata": {},
   "outputs": [
    {
     "data": {
      "image/png": "[encoded data removed]",
      "text/plain": [
       "<Figure size 432x288 with 1 Axes>"
      ]
     },
     "metadata": {
      "needs_background": "light"
     },
     "output_type": "display_data"
    }
   ],
   "source": [
    "# Calculate ROC curve\n",
    "fpr, tpr, thresholds = roc_curve(y_test, xgb_model.predict_proba(x_test)[:, 1])\n",
    "# Calculate AUC\n",
    "roc_auc = auc(fpr, tpr)\n",
    "# Plot ROC curve\n",
    "plt.figure()\n",
    "plt.plot(fpr, tpr, color='darkorange', lw=2, label='ROC curve (area = %0.2f)' %roc_auc)\n",
    "plt.plot([0, 1], [0, 1], color='navy', lw=2, linestyle='--')\n",
    "plt.xlim([0.0, 1.0])\n",
    "plt.ylim([0.0, 1.05])\n",
    "plt.xlabel('False Positive Rate')\n",
    "plt.ylabel('True Positive Rate')\n",
    "plt.title('Receiver Operating Characteristic (ROC) Curve')\n",
    "plt.legend(loc=\"lower right\")\n",
    "plt.show()\n"
   ]
  }
 ],
 "metadata": {
  "kernelspec": {
   "display_name": "Python 3",
   "language": "python",
   "name": "python3"
  },
  "language_info": {
   "codemirror_mode": {
    "name": "ipython",
    "version": 3
   },
   "file_extension": ".py",
   "mimetype": "text/x-python",
   "name": "python",
   "nbconvert_exporter": "python",
   "pygments_lexer": "ipython3",
   "version": "3.10.11"
  }
 },
 "nbformat": 4,
 "nbformat_minor": 2
}
